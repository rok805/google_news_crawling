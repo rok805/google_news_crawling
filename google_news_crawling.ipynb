{
 "cells": [
  {
   "cell_type": "code",
   "execution_count": null,
   "metadata": {
    "id": "m5pG_-fkoIS6"
   },
   "outputs": [],
   "source": [
    "#1. 필요한 모듈\n",
    "\n",
    "from selenium import webdriver\n",
    "from selenium.webdriver.common.keys import Keys\n",
    "from bs4 import BeautifulSoup\n",
    "import time\n",
    "import pandas as pd\n",
    "from datetime import datetime\n",
    "import re"
   ]
  },
  {
   "cell_type": "code",
   "execution_count": null,
   "metadata": {
    "id": "Kqx7cmQooITA"
   },
   "outputs": [],
   "source": [
    "# 2. 기사 제목 url 크롤링 함수 선언\n",
    "def get_company_url(a):\n",
    "    driver.get(a)\n",
    "    # driver를 이용하여 가져오기\n",
    "    contents_url = driver.find_elements_by_css_selector(\"a.l.lLrAF\")\n",
    "    contents_comp = driver.find_elements_by_css_selector('div.gG0TJc')\n",
    "\n",
    "\n",
    "    # 각 url과 뉴스사를 리스트로 만들기\n",
    "    list_company = []\n",
    "    for i in contents_comp:\n",
    "        a = i.find_elements_by_css_selector('span.xQ82C.e8fRJf')\n",
    "        for j in a:\n",
    "            list_company.append(j.text)\n",
    "        \n",
    "    list_url = []\n",
    "    for i in contents_url:\n",
    "        list_url.append(i.get_attribute('href'))\n",
    "    \n",
    "    list_title = []\n",
    "    for i in contents_url:\n",
    "        list_title.append(i.text)\n",
    "\n",
    "    # dataframe으로 만들기\n",
    "    list_merge = [list_company, list_title, list_url]\n",
    "    col_names = ['company', 'title', 'url']\n",
    "    df_ = pd.DataFrame(list_merge)\n",
    "    df = df_.T\n",
    "    df.columns = col_names\n",
    "    \n",
    "    return df\n",
    "    # company filtering 함수로 보내기\n",
    "    # filter_company(df)\n",
    "\n",
    "def filter_company(b):\n",
    "    \n",
    "    # company에 있는 뉴스사들만 추출하기\n",
    "    company_list = ['newsBTC', 'Cointelegraph', 'Coindesk', 'BelnCrypto', 'Bitcoinist', 'Bitcoin News',\n",
    "                    'CNBC', 'The Guardian', 'BBC news', 'Reuters', 'Business Week', 'The Economist',\n",
    "                    'Bloomberg', 'The Wall Street Journal', 'Forbes']\n",
    "    filter_df = b[b['company'].isin(company_list)]\n",
    "    \n",
    "    return filter_df\n",
    "    # date_column(filter_df)    \n",
    "    \n",
    "def date_column(c):\n",
    "    date_list = []\n",
    "    for i in range(len(c.index)):\n",
    "        date_list.append(DATE)\n",
    "    c.insert(0, 'date', date_list)\n",
    "    return c"
   ]
  },
  {
   "cell_type": "code",
   "execution_count": null,
   "metadata": {
    "id": "9us_6QFqoITC"
   },
   "outputs": [],
   "source": [
    "#3. 특정 날짜에 대한 비트코인 검색 후 첫페이지 url\n",
    "\n",
    "date_30 = [4, 6, 9, 11]\n",
    "date_28 = [2]\n",
    "date_31 = [1, 3, 5, 7, 8, 10, 12]\n",
    "\n",
    "def datetime(y,m1,m2):  # 2017,9,12 하면 2017년 9월에서 12월까지의 일별 url\n",
    "    url_result=dict() #결과\n",
    "\n",
    "    for i in range(m1,m2+1):\n",
    "        month=i\n",
    "        if i in date_31:\n",
    "            for j in range(1,32):\n",
    "                day=j\n",
    "                month_day=str(y)+\"-\"+str(i)+\"-\"+str(j)\n",
    "                date = [str(y),str(i),str(j)]\n",
    "                duration = '%2Ccd_min%3A{0}%2F{1}%2F{2}%2Ccd_max%3A{3}%2F{4}%2F{5}'.format(date[1], date[2], date[0], date[1], date[2], date[0])\n",
    "                base_url = 'https://www.google.com/search?q=bitcoin&biw=1005&bih=842&source=lnt&tbs=cdr%3A1'+ duration + '&tbm=nws'\n",
    "                url_result[month_day]=base_url\n",
    "\n",
    "\n",
    "\n",
    "        elif i in date_28:\n",
    "            for j in range(1,29):\n",
    "                day=j\n",
    "                month_day=str(y)+\"-\"+str(i)+\"-\"+str(j)\n",
    "                date = [str(y),str(i),str(j)]\n",
    "                duration = '%2Ccd_min%3A{0}%2F{1}%2F{2}%2Ccd_max%3A{3}%2F{4}%2F{5}'.format(date[1], date[2], date[0], date[1], date[2], date[0])\n",
    "                base_url = 'https://www.google.com/search?q=bitcoin&biw=1005&bih=842&source=lnt&tbs=cdr%3A1'+ duration + '&tbm=nws' \n",
    "                url_result[month_day]=base_url\n",
    "        else:\n",
    "            for j in range(1,31):\n",
    "                day=j\n",
    "                month_day=str(y)+\"-\"+str(i)+\"-\"+str(j)\n",
    "                date = [str(y),str(i),str(j)]\n",
    "                duration = '%2Ccd_min%3A{0}%2F{1}%2F{2}%2Ccd_max%3A{3}%2F{4}%2F{5}'.format(date[1], date[2], date[0], date[1], date[2], date[0])\n",
    "                base_url = 'https://www.google.com/search?q=bitcoin&biw=1005&bih=842&source=lnt&tbs=cdr%3A1'+ duration + '&tbm=nws'\n",
    "                url_result[month_day]=base_url\n",
    "    return url_result\n",
    "\n",
    "\n",
    "\n",
    "\n",
    "d1= datetime(2017,9,11)\n",
    "d2= datetime(2018,1,12)\n",
    "d3= datetime(2019,1,9)\n",
    "d1.update(d2)\n",
    "d1.update(d3) \n",
    "\n",
    "DATE= [a for a in d1.keys()]\n",
    "url_list=[a for a in d1.values()]"
   ]
  },
  {
   "cell_type": "code",
   "execution_count": null,
   "metadata": {
    "id": "8LaPOZesoITC",
    "outputId": "5068d760-19c6-4d26-b11b-67efacaa7bed"
   },
   "outputs": [
    {
     "name": "stdout",
     "output_type": "stream",
     "text": [
      "웹페이지 인덱스 0 / 729\n",
      "더이상 \"페이지\" 없음 list index out of range\n",
      "웹페이지 인덱스 1 / 729\n",
      "더이상 \"페이지\" 없음 list index out of range\n",
      "웹페이지 인덱스 2 / 729\n",
      "더이상 \"페이지\" 없음 list index out of range\n",
      "웹페이지 인덱스 3 / 729\n",
      "더이상 \"페이지\" 없음 list index out of range\n",
      "웹페이지 인덱스 4 / 729\n",
      "더이상 \"페이지\" 없음 list index out of range\n"
     ]
    }
   ],
   "source": [
    "#4. 페이지 넘기며 신문사, 뉴스, 날짜 수집\n",
    "\n",
    "driver = webdriver.Chrome(r\"C:\\Users\\rok80\\Anaconda3\\네이버뉴스\\chromedriver_win32\\chromedriver.exe\")\n",
    "driver.set_page_load_timeout(\"10\")\n",
    "\n",
    "\n",
    "FINAL=[]\n",
    "for DATE, URL in zip(DATE[:5], url_list[:5]): \n",
    "    \n",
    "    time.sleep(1)\n",
    "    driver.get(URL) # 페이지 입장\n",
    "    time.sleep(3)\n",
    "    \n",
    "    print(\"웹페이지 인덱스\" , url_list.index(URL), \"/\",len(url_list) )\n",
    "    r1 = get_company_url(URL)\n",
    "    r2 = filter_company(r1)\n",
    "    r3 = date_column(r2)\n",
    "    FINAL.append(r3)\n",
    "\n",
    "    for count in range(999):\n",
    "        if count==0:\n",
    "            try:\n",
    "                soup = BeautifulSoup(driver.page_source)\n",
    "                h1= soup.find_all(\"a\", class_=\"pn\")\n",
    "                h2='http://www.google.com'+h1[0]['href'] # 다음버튼 url\n",
    "                driver.get(h2)\n",
    "                time.sleep(3)\n",
    "            except Exception as ex:\n",
    "                print('더이상 \"페이지\" 없음', ex)\n",
    "                break\n",
    "        else:\n",
    "            try:\n",
    "                soup = BeautifulSoup(driver.page_source)\n",
    "                h1= soup.find_all(\"a\", class_=\"pn\")\n",
    "                h2='http://www.google.com'+h1[1]['href'] # 다음버튼 url\n",
    "                driver.get(h2)\n",
    "                time.sleep(3)\n",
    "            except Exception as ex:\n",
    "                print('더이상 \"페이지\" 없음', ex)\n",
    "                break\n",
    "    \n",
    "driver.close()    "
   ]
  },
  {
   "cell_type": "code",
   "execution_count": null,
   "metadata": {
    "id": "O3eljFOaoITD",
    "outputId": "c56bf7eb-9765-4fe0-dfc7-705c4d8c19eb"
   },
   "outputs": [
    {
     "data": {
      "text/html": [
       "<div>\n",
       "<style scoped>\n",
       "    .dataframe tbody tr th:only-of-type {\n",
       "        vertical-align: middle;\n",
       "    }\n",
       "\n",
       "    .dataframe tbody tr th {\n",
       "        vertical-align: top;\n",
       "    }\n",
       "\n",
       "    .dataframe thead th {\n",
       "        text-align: right;\n",
       "    }\n",
       "</style>\n",
       "<table border=\"1\" class=\"dataframe\">\n",
       "  <thead>\n",
       "    <tr style=\"text-align: right;\">\n",
       "      <th></th>\n",
       "      <th>date</th>\n",
       "      <th>company</th>\n",
       "      <th>title</th>\n",
       "      <th>url</th>\n",
       "    </tr>\n",
       "  </thead>\n",
       "  <tbody>\n",
       "    <tr>\n",
       "      <td>0</td>\n",
       "      <td>2017-9-1</td>\n",
       "      <td>Forbes</td>\n",
       "      <td>Why Bitcoin Prices Have Risen More Than 400% T...</td>\n",
       "      <td>https://www.forbes.com/sites/cbovaird/2017/09/...</td>\n",
       "    </tr>\n",
       "    <tr>\n",
       "      <td>7</td>\n",
       "      <td>2017-9-1</td>\n",
       "      <td>CNBC</td>\n",
       "      <td>Here's why investors have to pay a premium to ...</td>\n",
       "      <td>https://www.cnbc.com/video/2017/09/01/heres-wh...</td>\n",
       "    </tr>\n",
       "    <tr>\n",
       "      <td>0</td>\n",
       "      <td>2017-9-3</td>\n",
       "      <td>Forbes</td>\n",
       "      <td>Where Does Bitcoin Fit In Your Portfolio?</td>\n",
       "      <td>https://www.forbes.com/sites/petertchir/2017/0...</td>\n",
       "    </tr>\n",
       "    <tr>\n",
       "      <td>1</td>\n",
       "      <td>2017-9-3</td>\n",
       "      <td>Bloomberg</td>\n",
       "      <td>Sequoia, IDG to Invest in China Bitcoin Mining...</td>\n",
       "      <td>https://www.bloomberg.com/news/articles/2017-0...</td>\n",
       "    </tr>\n",
       "    <tr>\n",
       "      <td>5</td>\n",
       "      <td>2017-9-3</td>\n",
       "      <td>Forbes</td>\n",
       "      <td>Russia Opens First Criminal Case Involving Bit...</td>\n",
       "      <td>https://www.forbes.com/sites/kenrapoza/2017/09...</td>\n",
       "    </tr>\n",
       "    <tr>\n",
       "      <td>0</td>\n",
       "      <td>2017-9-4</td>\n",
       "      <td>CNBC</td>\n",
       "      <td>Bitcoin price drops $200 after new ruling from...</td>\n",
       "      <td>https://www.cnbc.com/2017/09/04/bitcoin-digita...</td>\n",
       "    </tr>\n",
       "    <tr>\n",
       "      <td>4</td>\n",
       "      <td>2017-9-4</td>\n",
       "      <td>The Guardian</td>\n",
       "      <td>London developer to allow rental tenants to pa...</td>\n",
       "      <td>https://www.theguardian.com/money/2017/sep/04/...</td>\n",
       "    </tr>\n",
       "    <tr>\n",
       "      <td>1</td>\n",
       "      <td>2017-9-5</td>\n",
       "      <td>CNBC</td>\n",
       "      <td>Real estate project in Dubai to be the 'first ...</td>\n",
       "      <td>https://www.cnbc.com/2017/09/05/dubai-real-est...</td>\n",
       "    </tr>\n",
       "    <tr>\n",
       "      <td>6</td>\n",
       "      <td>2017-9-5</td>\n",
       "      <td>Forbes</td>\n",
       "      <td>12 Reasons Gold Is Better Than Bitcoin</td>\n",
       "      <td>https://www.forbes.com/sites/simonconstable/20...</td>\n",
       "    </tr>\n",
       "  </tbody>\n",
       "</table>\n",
       "</div>"
      ],
      "text/plain": [
       "       date       company                                              title  \\\n",
       "0  2017-9-1        Forbes  Why Bitcoin Prices Have Risen More Than 400% T...   \n",
       "7  2017-9-1          CNBC  Here's why investors have to pay a premium to ...   \n",
       "0  2017-9-3        Forbes          Where Does Bitcoin Fit In Your Portfolio?   \n",
       "1  2017-9-3     Bloomberg  Sequoia, IDG to Invest in China Bitcoin Mining...   \n",
       "5  2017-9-3        Forbes  Russia Opens First Criminal Case Involving Bit...   \n",
       "0  2017-9-4          CNBC  Bitcoin price drops $200 after new ruling from...   \n",
       "4  2017-9-4  The Guardian  London developer to allow rental tenants to pa...   \n",
       "1  2017-9-5          CNBC  Real estate project in Dubai to be the 'first ...   \n",
       "6  2017-9-5        Forbes             12 Reasons Gold Is Better Than Bitcoin   \n",
       "\n",
       "                                                 url  \n",
       "0  https://www.forbes.com/sites/cbovaird/2017/09/...  \n",
       "7  https://www.cnbc.com/video/2017/09/01/heres-wh...  \n",
       "0  https://www.forbes.com/sites/petertchir/2017/0...  \n",
       "1  https://www.bloomberg.com/news/articles/2017-0...  \n",
       "5  https://www.forbes.com/sites/kenrapoza/2017/09...  \n",
       "0  https://www.cnbc.com/2017/09/04/bitcoin-digita...  \n",
       "4  https://www.theguardian.com/money/2017/sep/04/...  \n",
       "1  https://www.cnbc.com/2017/09/05/dubai-real-est...  \n",
       "6  https://www.forbes.com/sites/simonconstable/20...  "
      ]
     },
     "execution_count": 286,
     "metadata": {
      "tags": []
     },
     "output_type": "execute_result"
    }
   ],
   "source": [
    "pd.concat(FINAL)"
   ]
  },
  {
   "cell_type": "code",
   "execution_count": null,
   "metadata": {
    "id": "7Udx27nYoITE"
   },
   "outputs": [],
   "source": [
    "import pickle\n",
    "with open('bitcoinDF_19.9-10.pkl', 'rb') as f:\n",
    "    bitcoinDF = pickle.load(f)"
   ]
  },
  {
   "cell_type": "code",
   "execution_count": null,
   "metadata": {
    "id": "t4jdGUY5oITE",
    "outputId": "9d24fca5-d074-4d45-f821-a9bc0df99d9f"
   },
   "outputs": [
    {
     "data": {
      "text/plain": [
       "Cointelegraph                   150\n",
       "Bitcoin News (press release)     60\n",
       "newsBTC                          47\n",
       "Forbes                           46\n",
       "Bitcoinist                       45\n",
       "                               ... \n",
       "The Economist                     1\n",
       "Wall Street Journal (blog)        1\n",
       "Business Insider Nordic           1\n",
       "SC Magazine UK                    1\n",
       "Crain's Chicago Business          1\n",
       "Name: company, Length: 68, dtype: int64"
      ]
     },
     "execution_count": 2,
     "metadata": {
      "tags": []
     },
     "output_type": "execute_result"
    }
   ],
   "source": [
    "bitcoinDF['company'].value_counts()"
   ]
  }
 ],
 "metadata": {
  "colab": {
   "name": "구글비트코인뉴스크롤링.ipynb",
   "provenance": []
  },
  "kernelspec": {
   "display_name": "Python 3",
   "language": "python",
   "name": "python3"
  },
  "language_info": {
   "codemirror_mode": {
    "name": "ipython",
    "version": 3
   },
   "file_extension": ".py",
   "mimetype": "text/x-python",
   "name": "python",
   "nbconvert_exporter": "python",
   "pygments_lexer": "ipython3",
   "version": "3.7.6"
  }
 },
 "nbformat": 4,
 "nbformat_minor": 1
}
